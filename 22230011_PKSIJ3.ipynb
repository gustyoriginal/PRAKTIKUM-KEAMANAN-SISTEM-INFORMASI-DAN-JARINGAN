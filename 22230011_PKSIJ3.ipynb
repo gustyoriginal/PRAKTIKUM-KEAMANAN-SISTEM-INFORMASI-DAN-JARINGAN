{
 "cells": [
  {
   "cell_type": "code",
   "execution_count": 28,
   "id": "9f3b1fa0-74be-44eb-915b-0ee38a80442e",
   "metadata": {},
   "outputs": [
    {
     "name": "stdout",
     "output_type": "stream",
     "text": [
      "Pesan asli     : saya ingin memiliki kekayaan dan kehormatan macam pablo escobar\n",
      "Keyword        : eksekutor\n",
      "Hasil enkripsi : wkqe cguzr eiwcewbm ciuurorr vex dsysbeedug demsq jtpcs wwmiuoi\n"
     ]
    }
   ],
   "source": [
    "def generate_key(message: str, keyword: str) -> str:\n",
    "    \"\"\"\n",
    "    Menyesuaikan panjang keyword agar sama dengan panjang pesan.\n",
    "    \"\"\"\n",
    "    keyword = list(keyword)\n",
    "    if len(message) == len(keyword):\n",
    "        return \"\".join(keyword)\n",
    "    else:\n",
    "        for i in range(len(message) - len(keyword)):\n",
    "            keyword.append(keyword[i % len(keyword)])\n",
    "        return \"\".join(keyword) \n",
    "\n",
    "def encrypt_vigenere(plain_text: str, keyword: str) -> str:\n",
    "    \"\"\"\n",
    "    Mengenkripsi plain_text menggunakan Vigenère cipher dan keyword.\n",
    "    Hanya huruf alfabet yang dienkripsi.\n",
    "    \"\"\"\n",
    "    encrypted_text = []\n",
    "    key = generate_key(plain_text, keyword)\n",
    "\n",
    "    for i in range(len(plain_text)):\n",
    "        if plain_text[i].isalpha():\n",
    "            shift = ord(key[i].upper()) - ord('A')\n",
    "            if plain_text[i].isupper():\n",
    "                encrypted_char = chr((ord(plain_text[i]) - ord('A') + shift) % 26 + ord('A'))\n",
    "            else:\n",
    "                encrypted_char = chr((ord(plain_text[i]) - ord('a') + shift) % 26 + ord('a'))\n",
    "            encrypted_text.append(encrypted_char)\n",
    "        else:\n",
    "            encrypted_text.append(plain_text[i])\n",
    "\n",
    "    return \"\".join(encrypted_text)\n",
    "\n",
    "\n",
    "message = \"saya ingin memiliki kekayaan dan kehormatan macam pablo escobar\"\n",
    "keyword = \"eksekutor\"\n",
    "encrypted = encrypt_vigenere(message, keyword)\n",
    "print(\"Pesan asli     :\", message)\n",
    "print(\"Keyword        :\", keyword)\n",
    "print(\"Hasil enkripsi :\", encrypted)\n"
   ]
  },
  {
   "cell_type": "code",
   "execution_count": null,
   "id": "fb4e5b0c-6839-4b68-bac3-462eb2f40336",
   "metadata": {},
   "outputs": [],
   "source": []
  }
 ],
 "metadata": {
  "kernelspec": {
   "display_name": "Python [conda env:base] *",
   "language": "python",
   "name": "conda-base-py"
  },
  "language_info": {
   "codemirror_mode": {
    "name": "ipython",
    "version": 3
   },
   "file_extension": ".py",
   "mimetype": "text/x-python",
   "name": "python",
   "nbconvert_exporter": "python",
   "pygments_lexer": "ipython3",
   "version": "3.12.7"
  }
 },
 "nbformat": 4,
 "nbformat_minor": 5
}
