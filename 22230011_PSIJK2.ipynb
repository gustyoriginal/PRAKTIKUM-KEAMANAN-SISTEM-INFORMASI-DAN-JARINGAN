{
 "cells": [
  {
   "cell_type": "code",
   "execution_count": 3,
   "id": "73421bde-ba28-47d7-b5c4-a52ed54eca81",
   "metadata": {},
   "outputs": [
    {
     "name": "stdout",
     "output_type": "stream",
     "text": [
      "Plain Text is :  saya gusty original ingin menguasai alam semesta dan seisinya \n",
      "Shift pattern is : 1\n",
      "Cipher Text is :  tbzb hvtuz psjhjobm johjo nfohvbtbj bmbn tfnftub ebo tfjtjozb \n"
     ]
    }
   ],
   "source": [
    "def encrypt_text(plaintext, n):\n",
    "    ans = \"\"\n",
    "    # iterate over the given text\n",
    "    for i in range(len(plaintext)):\n",
    "        ch = plaintext[i]\n",
    "\n",
    "        # check if space is there then simply add space\n",
    "        if ch == \" \":\n",
    "            ans += \" \"\n",
    "        # check if a character is uppercase then encrypt it accordingly\n",
    "        elif ch.isupper():\n",
    "            ans += chr((ord(ch) + n - 65) % 26 + 65)\n",
    "        # check if a character is lowercase then encrypt it accordingly\n",
    "        else:\n",
    "            ans += chr((ord(ch) + n - 97) % 26 + 97)\n",
    "\n",
    "    return ans\n",
    "\n",
    "plaintext = \" saya gusty original ingin menguasai alam semesta dan seisinya \"\n",
    "n = 1\n",
    "print(\"Plain Text is : \" + plaintext)\n",
    "print(\"Shift pattern is : \" + str(n))\n",
    "print(\"Cipher Text is : \" + encrypt_text(plaintext, n))"
   ]
  },
  {
   "cell_type": "code",
   "execution_count": null,
   "id": "0266646d-d1f7-45c6-b182-796411e45dcb",
   "metadata": {},
   "outputs": [],
   "source": []
  }
 ],
 "metadata": {
  "kernelspec": {
   "display_name": "Python [conda env:base] *",
   "language": "python",
   "name": "conda-base-py"
  },
  "language_info": {
   "codemirror_mode": {
    "name": "ipython",
    "version": 3
   },
   "file_extension": ".py",
   "mimetype": "text/x-python",
   "name": "python",
   "nbconvert_exporter": "python",
   "pygments_lexer": "ipython3",
   "version": "3.12.7"
  }
 },
 "nbformat": 4,
 "nbformat_minor": 5
}
