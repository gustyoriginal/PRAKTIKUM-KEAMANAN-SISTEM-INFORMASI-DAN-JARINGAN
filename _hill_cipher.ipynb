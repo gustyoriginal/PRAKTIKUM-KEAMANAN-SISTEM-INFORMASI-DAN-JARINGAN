{
 "cells": [
  {
   "cell_type": "code",
   "execution_count": 2,
   "id": "f2d9fea9-0df0-4d95-8981-ca25797c0c95",
   "metadata": {},
   "outputs": [
    {
     "name": "stdout",
     "output_type": "stream",
     "text": [
      "Collecting sympy\n",
      "  Downloading sympy-1.14.0-py3-none-any.whl.metadata (12 kB)\n",
      "Collecting mpmath<1.4,>=1.1.0 (from sympy)\n",
      "  Downloading mpmath-1.3.0-py3-none-any.whl.metadata (8.6 kB)\n",
      "Downloading sympy-1.14.0-py3-none-any.whl (6.3 MB)\n",
      "   ---------------------------------------- 0.0/6.3 MB ? eta -:--:--\n",
      "   ------ --------------------------------- 1.0/6.3 MB 8.4 MB/s eta 0:00:01\n",
      "   ----------- ---------------------------- 1.8/6.3 MB 5.6 MB/s eta 0:00:01\n",
      "   ---------------- ----------------------- 2.6/6.3 MB 4.9 MB/s eta 0:00:01\n",
      "   --------------------- ------------------ 3.4/6.3 MB 4.6 MB/s eta 0:00:01\n",
      "   -------------------------- ------------- 4.2/6.3 MB 4.4 MB/s eta 0:00:01\n",
      "   -------------------------- ------------- 4.2/6.3 MB 4.4 MB/s eta 0:00:01\n",
      "   ------------------------------------ --- 5.8/6.3 MB 4.1 MB/s eta 0:00:01\n",
      "   ---------------------------------------- 6.3/6.3 MB 4.0 MB/s eta 0:00:00\n",
      "Downloading mpmath-1.3.0-py3-none-any.whl (536 kB)\n",
      "   ---------------------------------------- 0.0/536.2 kB ? eta -:--:--\n",
      "   ---------------------------------------- 536.2/536.2 kB 4.4 MB/s eta 0:00:00\n",
      "Installing collected packages: mpmath, sympy\n",
      "Successfully installed mpmath-1.3.0 sympy-1.14.0\n"
     ]
    }
   ],
   "source": [
    "!pip install sympy\n"
   ]
  },
  {
   "cell_type": "code",
   "execution_count": 8,
   "id": "0d028a64-7a22-4271-8fb0-554a0d13a94d",
   "metadata": {},
   "outputs": [
    {
     "name": "stdout",
     "output_type": "stream",
     "text": [
      "Plaintext: GUSTI\n",
      "Ciphertext: AIHBPB\n"
     ]
    }
   ],
   "source": [
    "import numpy as np\n",
    "\n",
    "\n",
    "def process_text(text):\n",
    "    return text.replace(\" \", \"\").upper()\n",
    "\n",
    "\n",
    "def text_to_numbers(text):\n",
    "    return [ord(c) - ord('A') for c in text]\n",
    "\n",
    "\n",
    "def numbers_to_text(numbers):\n",
    "    return ''.join([chr(n % 26 + ord('A')) for n in numbers])\n",
    "\n",
    "\n",
    "def hill_encrypt(plaintext, key_matrix):\n",
    "    text = process_text(plaintext)\n",
    "    \n",
    " \n",
    "    if len(text) % 2 != 0:\n",
    "        text += 'X' \n",
    "    \n",
    "    nums = text_to_numbers(text)\n",
    "    ciphertext = []\n",
    "\n",
    "    for i in range(0, len(nums), 2):\n",
    "        pair = np.array([[nums[i]], [nums[i+1]]])\n",
    "        result = np.dot(key_matrix, pair) % 26\n",
    "        ciphertext.extend(result.flatten())\n",
    "    \n",
    "    return numbers_to_text(ciphertext)\n",
    "\n",
    "\n",
    "key = np.array([[3, 3], [2, 5]]) \n",
    "plain = \"GUSTI\"\n",
    "\n",
    "cipher = hill_encrypt(plain, key)\n",
    "print(f\"Plaintext: {plain}\")\n",
    "print(f\"Ciphertext: {cipher}\")\n"
   ]
  }
 ],
 "metadata": {
  "kernelspec": {
   "display_name": "Python [conda env:base] *",
   "language": "python",
   "name": "conda-base-py"
  },
  "language_info": {
   "codemirror_mode": {
    "name": "ipython",
    "version": 3
   },
   "file_extension": ".py",
   "mimetype": "text/x-python",
   "name": "python",
   "nbconvert_exporter": "python",
   "pygments_lexer": "ipython3",
   "version": "3.12.7"
  }
 },
 "nbformat": 4,
 "nbformat_minor": 5
}
